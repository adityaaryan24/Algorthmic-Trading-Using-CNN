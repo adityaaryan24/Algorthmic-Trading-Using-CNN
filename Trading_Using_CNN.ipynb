{
 "cells": [
  {
   "cell_type": "code",
   "execution_count": 1,
   "metadata": {},
   "outputs": [],
   "source": [
    "import pandas as pd\n",
    "import numpy as np"
   ]
  },
  {
   "cell_type": "code",
   "execution_count": 4,
   "metadata": {},
   "outputs": [],
   "source": [
    " #df = pd.read_csv('WMT.csv')\n",
    "    #Uncomment this and read the WMT csv file wherever its stored on your local device"
   ]
  },
  {
   "cell_type": "code",
   "execution_count": 5,
   "metadata": {},
   "outputs": [
    {
     "ename": "IndentationError",
     "evalue": "expected an indented block (<ipython-input-5-cae2ff3fa008>, line 5)",
     "output_type": "error",
     "traceback": [
      "\u001b[1;36m  File \u001b[1;32m\"<ipython-input-5-cae2ff3fa008>\"\u001b[1;36m, line \u001b[1;32m5\u001b[0m\n\u001b[1;33m    def cmo():\u001b[0m\n\u001b[1;37m      ^\u001b[0m\n\u001b[1;31mIndentationError\u001b[0m\u001b[1;31m:\u001b[0m expected an indented block\n"
     ]
    }
   ],
   "source": [
    "#This is where you will code up the technical indicators and add as columns in the original dataframe\n",
    "\n",
    "def rsi(): #code rsi 6 to 25\n",
    "    \n",
    "def cmo():\n",
    "\n",
    "def williams():\n",
    "    \n",
    "def sma(): #code sma 6 to 30 \n",
    "    \n",
    "def wma():\n",
    "    \n",
    "def ppo():\n",
    "    \n",
    "def ema():\n",
    "    \n",
    "def roc():\n",
    "    \n",
    "def cmfi():\n",
    "\n",
    "def hma():\n",
    "\n",
    "def dmi():    \n",
    "    \n",
    "def tripleema():\n",
    "    \n",
    "def psi():\n",
    "    \n",
    "def cci():\n",
    "    \n"
   ]
  },
  {
   "cell_type": "code",
   "execution_count": 6,
   "metadata": {},
   "outputs": [
    {
     "ename": "SyntaxError",
     "evalue": "unexpected EOF while parsing (<ipython-input-6-c7c1a64e3c53>, line 1)",
     "output_type": "error",
     "traceback": [
      "\u001b[1;36m  File \u001b[1;32m\"<ipython-input-6-c7c1a64e3c53>\"\u001b[1;36m, line \u001b[1;32m1\u001b[0m\n\u001b[1;33m    def label_data():\u001b[0m\n\u001b[1;37m                     ^\u001b[0m\n\u001b[1;31mSyntaxError\u001b[0m\u001b[1;31m:\u001b[0m unexpected EOF while parsing\n"
     ]
    }
   ],
   "source": [
    "def label_data():"
   ]
  },
  {
   "cell_type": "code",
   "execution_count": null,
   "metadata": {},
   "outputs": [],
   "source": [
    "#Important - Before running normalizing function make sure to first run the label_algorithm and then the indicator functions, to avoid errors.\n",
    "#And also run the rsi, sma, ppo functions at the last to get the better results (because of the unequal periods).\n",
    "def normalizing(df):\n",
    "  list_features = df.iloc[:, 8:233].columns\n",
    "  min_max_scaler = preprocessing.MinMaxScaler()\n",
    "  df[list_features] = min_max_scaler.fit_transform(df[list_features])\n",
    "  return df"
   ]
  }
 ],
 "metadata": {
  "kernelspec": {
   "display_name": "Python 3",
   "language": "python",
   "name": "python3"
  },
  "language_info": {
   "codemirror_mode": {
    "name": "ipython",
    "version": 3
   },
   "file_extension": ".py",
   "mimetype": "text/x-python",
   "name": "python",
   "nbconvert_exporter": "python",
   "pygments_lexer": "ipython3",
   "version": "3.7.6"
  }
 },
 "nbformat": 4,
 "nbformat_minor": 4
}